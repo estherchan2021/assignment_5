{
 "cells": [
  {
   "cell_type": "code",
   "execution_count": null,
   "id": "542d0307",
   "metadata": {},
   "outputs": [
    {
     "name": "stdout",
     "output_type": "stream",
     "text": [
      " * Serving Flask app \"__main__\" (lazy loading)\n",
      " * Environment: production\n",
      "   WARNING: This is a development server. Do not use it in a production deployment.\n",
      "   Use a production WSGI server instead.\n",
      " * Debug mode: off\n"
     ]
    },
    {
     "name": "stderr",
     "output_type": "stream",
     "text": [
      " * Running on http://localhost:9005/ (Press CTRL+C to quit)\n",
      "127.0.0.1 - - [18/Oct/2021 13:03:35] \"\u001b[37mGET / HTTP/1.1\u001b[0m\" 200 -\n",
      "127.0.0.1 - - [18/Oct/2021 13:03:40] \"\u001b[37mGET /health HTTP/1.1\u001b[0m\" 200 -\n",
      "127.0.0.1 - - [18/Oct/2021 13:03:43] \"\u001b[37mGET /about HTTP/1.1\u001b[0m\" 200 -\n",
      "127.0.0.1 - - [18/Oct/2021 13:03:46] \"\u001b[37mGET /contact HTTP/1.1\u001b[0m\" 200 -\n"
     ]
    }
   ],
   "source": [
    "from flask import Flask, render_template, redirect, url_for\n",
    "import pandas as pd\n",
    "\n",
    "app = Flask(__name__)\n",
    "\n",
    "@app.route(\"/\")\n",
    "def index():\n",
    "    return render_template('index.html')\n",
    "\n",
    "@app.route(\"/health\")\n",
    "def health():\n",
    "    return render_template('health.html')\n",
    "\n",
    "@app.route(\"/about\")\n",
    "def about():\n",
    "    return render_template('about.html')\n",
    "\n",
    "@app.route(\"/contact\")\n",
    "def contact():\n",
    "    #Generate csv file\n",
    "    #doctors = [{'Name': 'Lily Chan', 'Address': 11, 'Contact_number': 12345678},\n",
    "    #    {'Name': 'Peter Lee',  'Address': 72, 'Contact_number': 12345678},\n",
    "    #    {'Name': 'John Lui',  'Address': 60, 'Contact_number': 12345678}]\n",
    "    #df = pd.DataFrame(doctors)\n",
    "    #df.to_csv('doctors_list.csv',mode='w',index=False)\n",
    "    \n",
    "    df = pd.read_csv(\"doctors_list.csv\")\n",
    "    list = df.to_dict('records')\n",
    "    return render_template('contact.html', entries = list)\n",
    "\n",
    "@app.errorhandler(404)\n",
    "def page_not_found(e):\n",
    "    return render_template('404.html'), 404\n",
    "\n",
    "\n",
    "if __name__ == '__main__':\n",
    "    app.run('localhost', 9005)"
   ]
  },
  {
   "cell_type": "code",
   "execution_count": null,
   "id": "36101ed3",
   "metadata": {},
   "outputs": [],
   "source": []
  }
 ],
 "metadata": {
  "kernelspec": {
   "display_name": "Python 3",
   "language": "python",
   "name": "python3"
  },
  "language_info": {
   "codemirror_mode": {
    "name": "ipython",
    "version": 3
   },
   "file_extension": ".py",
   "mimetype": "text/x-python",
   "name": "python",
   "nbconvert_exporter": "python",
   "pygments_lexer": "ipython3",
   "version": "3.8.8"
  }
 },
 "nbformat": 4,
 "nbformat_minor": 5
}
